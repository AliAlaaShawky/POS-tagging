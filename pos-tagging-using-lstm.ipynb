{
 "cells": [
  {
   "cell_type": "markdown",
   "metadata": {},
   "source": [
    "# POS Tagging - An Overview"
   ]
  },
  {
   "cell_type": "markdown",
   "metadata": {},
   "source": [
    "The process of classifying words into their __parts of speech__ and labeling them accordingly is known as **part-of-speech tagging**, or simply **POS-tagging**.\n",
    "\n",
    "The NLTK library has a number of corpora which contains word and its POS tag. "
   ]
  },
  {
   "cell_type": "markdown",
   "metadata": {},
   "source": [
    "# Notebook layout\n",
    "1. Preprocess data\n",
    "2. Word Embeddings\n",
    "3. LSTM\n",
    "4. Model Evaluation"
   ]
  },
  {
   "cell_type": "code",
   "execution_count": 2,
   "metadata": {
    "execution": {
     "iopub.execute_input": "2023-02-26T15:24:15.092749Z",
     "iopub.status.busy": "2023-02-26T15:24:15.092443Z",
     "iopub.status.idle": "2023-02-26T15:24:21.832969Z",
     "shell.execute_reply": "2023-02-26T15:24:21.832007Z",
     "shell.execute_reply.started": "2023-02-26T15:24:15.092717Z"
    }
   },
   "outputs": [],
   "source": [
    "# import necessary libraries\n",
    "import warnings\n",
    "warnings.filterwarnings(\"ignore\")\n",
    "\n",
    "import numpy as np\n",
    "\n",
    "from matplotlib import pyplot as plt\n",
    "\n",
    "from nltk.corpus import brown\n",
    "from nltk.corpus import treebank\n",
    "from nltk.corpus import conll2000\n",
    "\n",
    "import seaborn as sns\n",
    "\n",
    "from gensim.models import KeyedVectors\n",
    "\n",
    "from keras.preprocessing.sequence import pad_sequences\n",
    "from keras.utils.np_utils import to_categorical\n",
    "from keras.models import Sequential\n",
    "from keras.layers import Embedding\n",
    "from keras.layers import Dense, Input\n",
    "from keras.layers import TimeDistributed\n",
    "from keras.layers import LSTM\n",
    "from keras.models import Model\n",
    "from keras.preprocessing.text import Tokenizer\n",
    "\n",
    "from sklearn.model_selection import train_test_split\n",
    "from sklearn.utils import shuffle"
   ]
  },
  {
   "cell_type": "markdown",
   "metadata": {},
   "source": [
    "# 1. Preprocess data"
   ]
  },
  {
   "cell_type": "markdown",
   "metadata": {},
   "source": [
    "## Load data"
   ]
  },
  {
   "cell_type": "code",
   "execution_count": 3,
   "metadata": {
    "execution": {
     "iopub.execute_input": "2023-02-26T15:24:21.835312Z",
     "iopub.status.busy": "2023-02-26T15:24:21.834960Z",
     "iopub.status.idle": "2023-02-26T15:24:21.875619Z",
     "shell.execute_reply": "2023-02-26T15:24:21.874860Z",
     "shell.execute_reply.started": "2023-02-26T15:24:21.835275Z"
    }
   },
   "outputs": [],
   "source": [
    "# load POS tagged corpora from NLTK\n",
    "treebank_corpus = treebank.tagged_sents(tagset='universal')\n",
    "brown_corpus = brown.tagged_sents(tagset='universal')\n",
    "conll_corpus = conll2000.tagged_sents(tagset='universal')\n",
    "tagged_sentences = treebank_corpus + brown_corpus + conll_corpus"
   ]
  },
  {
   "cell_type": "code",
   "execution_count": 4,
   "metadata": {
    "execution": {
     "iopub.execute_input": "2023-02-26T15:24:21.877344Z",
     "iopub.status.busy": "2023-02-26T15:24:21.876953Z",
     "iopub.status.idle": "2023-02-26T15:24:31.987942Z",
     "shell.execute_reply": "2023-02-26T15:24:31.987201Z",
     "shell.execute_reply.started": "2023-02-26T15:24:21.877305Z"
    }
   },
   "outputs": [
    {
     "data": {
      "text/plain": [
       "[('A', 'DET'),\n",
       " ('Lorillard', 'NOUN'),\n",
       " ('spokewoman', 'NOUN'),\n",
       " ('said', 'VERB'),\n",
       " (',', '.'),\n",
       " ('``', '.'),\n",
       " ('This', 'DET'),\n",
       " ('is', 'VERB'),\n",
       " ('an', 'DET'),\n",
       " ('old', 'ADJ'),\n",
       " ('story', 'NOUN'),\n",
       " ('.', '.')]"
      ]
     },
     "execution_count": 4,
     "metadata": {},
     "output_type": "execute_result"
    }
   ],
   "source": [
    "# let's look at the data\n",
    "tagged_sentences[7]"
   ]
  },
  {
   "cell_type": "markdown",
   "metadata": {},
   "source": [
    "## Divide data in words (X) and tags (Y)"
   ]
  },
  {
   "cell_type": "markdown",
   "metadata": {},
   "source": [
    "Since this is a **many-to-many** problem, each data point will be a different sentence of the corpora.\n",
    "\n",
    "Each data point will have multiple words in the **input sequence**. This is what we will refer to as **X**.\n",
    "\n",
    "Each word will have its correpsonding tag in the **output sequence**. This what we will refer to as **Y**.\n",
    "\n",
    "Sample dataset:\n",
    "\n",
    "|                    X                        |                 Y                |\n",
    "|---------------------------------------------|----------------------------------|\n",
    "|   Mr. Vinken is chairman of Elsevier        |   NOUN NOUN VERB NOUN ADP NOUN   |\n",
    "|     We have no useful information           |      PRON VERB DET ADJ NOUN      |"
   ]
  },
  {
   "cell_type": "code",
   "execution_count": 5,
   "metadata": {
    "execution": {
     "iopub.execute_input": "2023-02-26T15:24:31.989682Z",
     "iopub.status.busy": "2023-02-26T15:24:31.989355Z",
     "iopub.status.idle": "2023-02-26T15:24:40.261108Z",
     "shell.execute_reply": "2023-02-26T15:24:40.260056Z",
     "shell.execute_reply.started": "2023-02-26T15:24:31.989645Z"
    }
   },
   "outputs": [],
   "source": [
    "X = [] # store input sequence\n",
    "Y = [] # store output sequence\n",
    "## append each word in X and append the word tag in Y\n",
    "for sentence in tagged_sentences:\n",
    "    X_sentence = []\n",
    "    Y_sentence = []\n",
    "    for entity in sentence:         \n",
    "        X_sentence.append(entity[0])  # entity[0] contains the word\n",
    "        Y_sentence.append(entity[1])  # entity[1] contains corresponding tag\n",
    "        \n",
    "    X.append(X_sentence)\n",
    "    Y.append(Y_sentence)"
   ]
  },
  {
   "cell_type": "code",
   "execution_count": 6,
   "metadata": {
    "execution": {
     "iopub.execute_input": "2023-02-26T15:24:40.265114Z",
     "iopub.status.busy": "2023-02-26T15:24:40.264669Z",
     "iopub.status.idle": "2023-02-26T15:24:40.938281Z",
     "shell.execute_reply": "2023-02-26T15:24:40.937446Z",
     "shell.execute_reply.started": "2023-02-26T15:24:40.265068Z"
    }
   },
   "outputs": [],
   "source": [
    "# get number of words and tags\n",
    "num_words = len(set([word.lower() for sentence in X for word in sentence]))\n",
    "num_tags   = len(set([word.lower() for sentence in Y for word in sentence]))"
   ]
  },
  {
   "cell_type": "code",
   "execution_count": 7,
   "metadata": {
    "execution": {
     "iopub.execute_input": "2023-02-26T15:24:40.942003Z",
     "iopub.status.busy": "2023-02-26T15:24:40.941735Z",
     "iopub.status.idle": "2023-02-26T15:24:41.250665Z",
     "shell.execute_reply": "2023-02-26T15:24:41.249711Z",
     "shell.execute_reply.started": "2023-02-26T15:24:40.941975Z"
    }
   },
   "outputs": [
    {
     "data": {
      "text/plain": [
       "{'.',\n",
       " 'adj',\n",
       " 'adp',\n",
       " 'adv',\n",
       " 'conj',\n",
       " 'det',\n",
       " 'noun',\n",
       " 'num',\n",
       " 'pron',\n",
       " 'prt',\n",
       " 'verb',\n",
       " 'x'}"
      ]
     },
     "execution_count": 7,
     "metadata": {},
     "output_type": "execute_result"
    }
   ],
   "source": [
    "#print unique tags\n",
    "set([word.lower() for sentence in Y for word in sentence])"
   ]
  },
  {
   "cell_type": "code",
   "execution_count": null,
   "metadata": {},
   "outputs": [],
   "source": []
  },
  {
   "cell_type": "code",
   "execution_count": 8,
   "metadata": {
    "execution": {
     "iopub.execute_input": "2023-02-26T15:24:41.252604Z",
     "iopub.status.busy": "2023-02-26T15:24:41.252034Z",
     "iopub.status.idle": "2023-02-26T15:24:41.259571Z",
     "shell.execute_reply": "2023-02-26T15:24:41.258540Z",
     "shell.execute_reply.started": "2023-02-26T15:24:41.252561Z"
    }
   },
   "outputs": [
    {
     "name": "stdout",
     "output_type": "stream",
     "text": [
      "Total number of tagged sentences: 72202\n",
      "Vocabulary size: 59448\n",
      "Total number of tags: 12\n"
     ]
    }
   ],
   "source": [
    "print(\"Total number of tagged sentences: {}\".format(len(X)))\n",
    "print(\"Vocabulary size: {}\".format(num_words))\n",
    "print(\"Total number of tags: {}\".format(num_tags))"
   ]
  },
  {
   "cell_type": "code",
   "execution_count": 9,
   "metadata": {
    "execution": {
     "iopub.execute_input": "2023-02-26T15:24:41.261519Z",
     "iopub.status.busy": "2023-02-26T15:24:41.261077Z",
     "iopub.status.idle": "2023-02-26T15:24:41.271228Z",
     "shell.execute_reply": "2023-02-26T15:24:41.270103Z",
     "shell.execute_reply.started": "2023-02-26T15:24:41.261461Z"
    }
   },
   "outputs": [
    {
     "name": "stdout",
     "output_type": "stream",
     "text": [
      "sample X:  ['Pierre', 'Vinken', ',', '61', 'years', 'old', ',', 'will', 'join', 'the', 'board', 'as', 'a', 'nonexecutive', 'director', 'Nov.', '29', '.'] \n",
      "\n",
      "sample Y:  ['NOUN', 'NOUN', '.', 'NUM', 'NOUN', 'ADJ', '.', 'VERB', 'VERB', 'DET', 'NOUN', 'ADP', 'DET', 'ADJ', 'NOUN', 'NOUN', 'NUM', '.'] \n",
      "\n"
     ]
    }
   ],
   "source": [
    "# let's look at first data point\n",
    "# this is one data point that will be fed to the LSTM\n",
    "print('sample X: ', X[0], '\\n')\n",
    "print('sample Y: ', Y[0], '\\n')"
   ]
  },
  {
   "cell_type": "code",
   "execution_count": 10,
   "metadata": {
    "execution": {
     "iopub.execute_input": "2023-02-26T15:24:41.273107Z",
     "iopub.status.busy": "2023-02-26T15:24:41.272700Z",
     "iopub.status.idle": "2023-02-26T15:24:41.281781Z",
     "shell.execute_reply": "2023-02-26T15:24:41.280900Z",
     "shell.execute_reply.started": "2023-02-26T15:24:41.273068Z"
    }
   },
   "outputs": [
    {
     "name": "stdout",
     "output_type": "stream",
     "text": [
      "Length of first input sequence  : 18\n",
      "Length of first output sequence : 18\n"
     ]
    }
   ],
   "source": [
    "# In this many-to-many problem, the length of each input and output sequence must be the same.\n",
    "# Since each word is tagged, it's important to make sure that the length of input sequence equals the output sequence\n",
    "print(\"Length of first input sequence  : {}\".format(len(X[0])))\n",
    "print(\"Length of first output sequence : {}\".format(len(Y[0])))"
   ]
  },
  {
   "cell_type": "markdown",
   "metadata": {},
   "source": [
    "## Vectorize X and Y"
   ]
  },
  {
   "cell_type": "markdown",
   "metadata": {},
   "source": [
    "#### Encode X and Y to integer values\n",
    "\n",
    "We'll use the Tokenizer() function from Keras library to encode text sequence to integer sequence"
   ]
  },
  {
   "cell_type": "code",
   "execution_count": 11,
   "metadata": {
    "execution": {
     "iopub.execute_input": "2023-02-26T15:24:41.283636Z",
     "iopub.status.busy": "2023-02-26T15:24:41.283081Z",
     "iopub.status.idle": "2023-02-26T15:24:43.189916Z",
     "shell.execute_reply": "2023-02-26T15:24:43.189037Z",
     "shell.execute_reply.started": "2023-02-26T15:24:41.283600Z"
    }
   },
   "outputs": [],
   "source": [
    "# toknize and encode X (word2id)\n",
    "\n",
    "word_tokenizer = Tokenizer()                      # instantiate tokeniser\n",
    "word_tokenizer.fit_on_texts(X)                    # fit tokenizer on data\n",
    "X_encoded = word_tokenizer.texts_to_sequences(X)  # use the tokenizer to encode input sequence"
   ]
  },
  {
   "cell_type": "code",
   "execution_count": 12,
   "metadata": {
    "execution": {
     "iopub.execute_input": "2023-02-26T15:24:43.191622Z",
     "iopub.status.busy": "2023-02-26T15:24:43.191221Z",
     "iopub.status.idle": "2023-02-26T15:24:44.983439Z",
     "shell.execute_reply": "2023-02-26T15:24:44.982643Z",
     "shell.execute_reply.started": "2023-02-26T15:24:43.191573Z"
    }
   },
   "outputs": [],
   "source": [
    "# toknize and encode Y (tag2id)\n",
    "\n",
    "tag_tokenizer = Tokenizer()\n",
    "tag_tokenizer.fit_on_texts(Y)\n",
    "Y_encoded = tag_tokenizer.texts_to_sequences(Y)"
   ]
  },
  {
   "cell_type": "code",
   "execution_count": 13,
   "metadata": {
    "execution": {
     "iopub.execute_input": "2023-02-26T15:24:44.986691Z",
     "iopub.status.busy": "2023-02-26T15:24:44.986057Z",
     "iopub.status.idle": "2023-02-26T15:24:44.997546Z",
     "shell.execute_reply": "2023-02-26T15:24:44.996872Z",
     "shell.execute_reply.started": "2023-02-26T15:24:44.986649Z"
    }
   },
   "outputs": [
    {
     "name": "stdout",
     "output_type": "stream",
     "text": [
      "** Raw data point ** \n",
      " ---------------------------------------------------------------------------------------------------- \n",
      "\n",
      "X:  ['Pierre', 'Vinken', ',', '61', 'years', 'old', ',', 'will', 'join', 'the', 'board', 'as', 'a', 'nonexecutive', 'director', 'Nov.', '29', '.'] \n",
      "\n",
      "Y:  ['NOUN', 'NOUN', '.', 'NUM', 'NOUN', 'ADJ', '.', 'VERB', 'VERB', 'DET', 'NOUN', 'ADP', 'DET', 'ADJ', 'NOUN', 'NOUN', 'NUM', '.'] \n",
      "\n",
      "\n",
      "** Encoded data point ** \n",
      " ---------------------------------------------------------------------------------------------------- \n",
      "\n",
      "X:  [6423, 24231, 2, 7652, 102, 170, 2, 47, 1898, 1, 269, 17, 7, 13230, 619, 1711, 2761, 3] \n",
      "\n",
      "Y:  [1, 1, 3, 11, 1, 6, 3, 2, 2, 5, 1, 4, 5, 6, 1, 1, 11, 3] \n",
      "\n"
     ]
    }
   ],
   "source": [
    "# look at first encoded data point\n",
    "\n",
    "print(\"** Raw data point **\", \"\\n\", \"-\"*100, \"\\n\")\n",
    "print('X: ', X[0], '\\n')\n",
    "print('Y: ', Y[0], '\\n')\n",
    "print()\n",
    "print(\"** Encoded data point **\", \"\\n\", \"-\"*100, \"\\n\")\n",
    "print('X: ', X_encoded[0], '\\n')\n",
    "print('Y: ', Y_encoded[0], '\\n')"
   ]
  },
  {
   "cell_type": "code",
   "execution_count": 14,
   "metadata": {
    "execution": {
     "iopub.execute_input": "2023-02-26T15:24:45.000964Z",
     "iopub.status.busy": "2023-02-26T15:24:45.000712Z",
     "iopub.status.idle": "2023-02-26T15:24:45.024638Z",
     "shell.execute_reply": "2023-02-26T15:24:45.023741Z",
     "shell.execute_reply.started": "2023-02-26T15:24:45.000939Z"
    }
   },
   "outputs": [
    {
     "name": "stdout",
     "output_type": "stream",
     "text": [
      "0 sentences have disparate input-output lengths.\n"
     ]
    }
   ],
   "source": [
    "# make sure that each sequence of input and output is same length\n",
    "#to ensure if all of words have  right tag\n",
    "\n",
    "different_length = [1 if len(input) != len(output) else 0 for input, output in zip(X_encoded, Y_encoded)]\n",
    "print(\"{} sentences have disparate input-output lengths.\".format(sum(different_length)))"
   ]
  },
  {
   "cell_type": "markdown",
   "metadata": {},
   "source": [
    "## Pad sequences"
   ]
  },
  {
   "cell_type": "markdown",
   "metadata": {},
   "source": [
    "The next step after encoding the data is to **define the sequence lengths**. As of now, the sentences present in the data are of various lengths. We need to either pad short sentences or truncate long sentences to a fixed length. This fixed length, however, is a **hyperparameter**."
   ]
  },
  {
   "cell_type": "code",
   "execution_count": 15,
   "metadata": {
    "execution": {
     "iopub.execute_input": "2023-02-26T15:24:45.027497Z",
     "iopub.status.busy": "2023-02-26T15:24:45.027161Z",
     "iopub.status.idle": "2023-02-26T15:24:45.042776Z",
     "shell.execute_reply": "2023-02-26T15:24:45.042092Z",
     "shell.execute_reply.started": "2023-02-26T15:24:45.027468Z"
    }
   },
   "outputs": [
    {
     "name": "stdout",
     "output_type": "stream",
     "text": [
      "Length of longest sentence: 271\n"
     ]
    }
   ],
   "source": [
    "# check length of longest sentence\n",
    "lengths = [len(seq) for seq in X_encoded]\n",
    "print(\"Length of longest sentence: {}\".format(max(lengths)))"
   ]
  },
  {
   "cell_type": "code",
   "execution_count": 16,
   "metadata": {
    "execution": {
     "iopub.execute_input": "2023-02-26T15:24:45.046049Z",
     "iopub.status.busy": "2023-02-26T15:24:45.045759Z",
     "iopub.status.idle": "2023-02-26T15:24:45.215069Z",
     "shell.execute_reply": "2023-02-26T15:24:45.214154Z",
     "shell.execute_reply.started": "2023-02-26T15:24:45.046005Z"
    }
   },
   "outputs": [
    {
     "data": {
      "image/png": "[encoded data removed]",
      "text/plain": [
       "<Figure size 432x288 with 1 Axes>"
      ]
     },
     "metadata": {
      "needs_background": "light"
     },
     "output_type": "display_data"
    }
   ],
   "source": [
    "#plot boxplot to show the length of sentences\n",
    "sns.boxplot(lengths)\n",
    "plt.show()"
   ]
  },
  {
   "cell_type": "code",
   "execution_count": 17,
   "metadata": {
    "execution": {
     "iopub.execute_input": "2023-02-26T15:24:45.216919Z",
     "iopub.status.busy": "2023-02-26T15:24:45.216502Z",
     "iopub.status.idle": "2023-02-26T15:24:45.909404Z",
     "shell.execute_reply": "2023-02-26T15:24:45.908597Z",
     "shell.execute_reply.started": "2023-02-26T15:24:45.216875Z"
    }
   },
   "outputs": [],
   "source": [
    "# Pad each sequence to MAX_SEQ_LENGTH using KERAS' pad_sequences() function. \n",
    "# Sentences longer than MAX_SEQ_LENGTH are truncated.\n",
    "# Sentences shorter than MAX_SEQ_LENGTH are padded with zeroes.\n",
    "\n",
    "# Truncation and padding can either be 'pre' or 'post'. \n",
    "# For padding we are using 'pre' padding type, that is, add zeroes on the left side.\n",
    "# For truncation, we are using 'post', that is, truncate a sentence from right side.\n",
    "\n",
    "MAX_SEQ_LENGTH = 100  # sequences greater than 100 in length will be truncated\n",
    "\n",
    "X_padded = pad_sequences(X_encoded, maxlen=MAX_SEQ_LENGTH, padding=\"pre\", truncating=\"post\")\n",
    "Y_padded = pad_sequences(Y_encoded, maxlen=MAX_SEQ_LENGTH, padding=\"pre\", truncating=\"post\")"
   ]
  },
  {
   "cell_type": "code",
   "execution_count": 18,
   "metadata": {
    "execution": {
     "iopub.execute_input": "2023-02-26T15:24:45.911288Z",
     "iopub.status.busy": "2023-02-26T15:24:45.910913Z",
     "iopub.status.idle": "2023-02-26T15:24:45.918450Z",
     "shell.execute_reply": "2023-02-26T15:24:45.917442Z",
     "shell.execute_reply.started": "2023-02-26T15:24:45.911250Z"
    },
    "scrolled": true
   },
   "outputs": [
    {
     "name": "stdout",
     "output_type": "stream",
     "text": [
      "[    0     0     0     0     0     0     0     0     0     0     0     0\n",
      "     0     0     0     0     0     0     0     0     0     0     0     0\n",
      "     0     0     0     0     0     0     0     0     0     0     0     0\n",
      "     0     0     0     0     0     0     0     0     0     0     0     0\n",
      "     0     0     0     0     0     0     0     0     0     0     0     0\n",
      "     0     0     0     0     0     0     0     0     0     0     0     0\n",
      "     0     0     0     0     0     0     0     0     0     0  6423 24231\n",
      "     2  7652   102   170     2    47  1898     1   269    17     7 13230\n",
      "   619  1711  2761     3] \n",
      "\n",
      "\n",
      "\n",
      "[ 0  0  0  0  0  0  0  0  0  0  0  0  0  0  0  0  0  0  0  0  0  0  0  0\n",
      "  0  0  0  0  0  0  0  0  0  0  0  0  0  0  0  0  0  0  0  0  0  0  0  0\n",
      "  0  0  0  0  0  0  0  0  0  0  0  0  0  0  0  0  0  0  0  0  0  0  0  0\n",
      "  0  0  0  0  0  0  0  0  0  0  1  1  3 11  1  6  3  2  2  5  1  4  5  6\n",
      "  1  1 11  3]\n"
     ]
    }
   ],
   "source": [
    "# print the first sequence\n",
    "print(X_padded[0], \"\\n\"*3)\n",
    "print(Y_padded[0])"
   ]
  },
  {
   "cell_type": "markdown",
   "metadata": {},
   "source": [
    "RNN will learn the zero to zero mapping while training. So we don't need to worry about the padded zeroes. Please note that zero is not reserved for any word or tag, it's only reserved for padding."
   ]
  },
  {
   "cell_type": "code",
   "execution_count": 19,
   "metadata": {
    "execution": {
     "iopub.execute_input": "2023-02-26T15:24:45.920365Z",
     "iopub.status.busy": "2023-02-26T15:24:45.919967Z",
     "iopub.status.idle": "2023-02-26T15:24:45.977111Z",
     "shell.execute_reply": "2023-02-26T15:24:45.976384Z",
     "shell.execute_reply.started": "2023-02-26T15:24:45.920327Z"
    }
   },
   "outputs": [],
   "source": [
    "# assign padded sequences to X and Y\n",
    "X, Y = X_padded, Y_padded"
   ]
  },
  {
   "cell_type": "markdown",
   "metadata": {},
   "source": [
    "## Word embeddings"
   ]
  },
  {
   "cell_type": "markdown",
   "metadata": {},
   "source": [
    "Currently, each word and each tag is encoded as an integer. \n",
    "\n",
    "We'll use a more sophisticated technique to represent the input words (X) using what's known as **word embeddings**.\n",
    "\n",
    "However, to represent each tag in Y, we'll simply use **one-hot encoding** scheme since there are only 13 tags in the dataset and the LSTM will have no problems in learning its own representation of these tags."
   ]
  },
  {
   "cell_type": "markdown",
   "metadata": {},
   "source": [
    "To use word embeddings, you can go for either of the following models:\n",
    "1. word2vec model: https://code.google.com/archive/p/word2vec/\n",
    "2. GloVe model : https://nlp.stanford.edu/projects/glove/\n",
    "\n",
    "We're using the word2vec model for no particular reason. Both of these are very efficient in representing words. You can try both and see which one works better.\n",
    "\n",
    "Dimensions of a word embedding is: (VOCABULARY_SIZE, EMBEDDING_DIMENSION)"
   ]
  },
  {
   "cell_type": "markdown",
   "metadata": {},
   "source": [
    "### Use word embeddings for input sequences (X)"
   ]
  },
  {
   "cell_type": "code",
   "execution_count": 20,
   "metadata": {
    "execution": {
     "iopub.execute_input": "2023-02-26T15:24:45.979326Z",
     "iopub.status.busy": "2023-02-26T15:24:45.978929Z",
     "iopub.status.idle": "2023-02-26T15:25:55.211175Z",
     "shell.execute_reply": "2023-02-26T15:25:55.210393Z",
     "shell.execute_reply.started": "2023-02-26T15:24:45.979289Z"
    }
   },
   "outputs": [],
   "source": [
    "# word2vec\n",
    "\n",
    "path = '../input/wordembeddings/GoogleNews-vectors-negative300.bin'\n",
    "\n",
    "\n",
    "# load word2vec using the following function present in the gensim library\n",
    "word2vec = KeyedVectors.load_word2vec_format(path, binary=True)"
   ]
  },
  {
   "cell_type": "code",
   "execution_count": 21,
   "metadata": {
    "execution": {
     "iopub.execute_input": "2023-02-26T15:25:55.212901Z",
     "iopub.status.busy": "2023-02-26T15:25:55.212551Z",
     "iopub.status.idle": "2023-02-26T15:26:05.642185Z",
     "shell.execute_reply": "2023-02-26T15:26:05.641306Z",
     "shell.execute_reply.started": "2023-02-26T15:25:55.212863Z"
    }
   },
   "outputs": [
    {
     "data": {
      "text/plain": [
       "[('Queen', 0.4929388165473938),\n",
       " ('Tupou_V.', 0.45174282789230347),\n",
       " ('Oprah_BFF_Gayle', 0.4422132670879364),\n",
       " ('Jackson', 0.440250426530838),\n",
       " ('NECN_Alison', 0.4331282675266266),\n",
       " ('Whitfield', 0.42834728956222534),\n",
       " ('Ida_Vandross', 0.42084529995918274),\n",
       " ('prosecutor_Dan_Satterberg', 0.4207589626312256),\n",
       " ('martin_Luther_King', 0.42059651017189026),\n",
       " ('Coretta_King', 0.42027339339256287)]"
      ]
     },
     "execution_count": 21,
     "metadata": {},
     "output_type": "execute_result"
    }
   ],
   "source": [
    "# word2vec effectiveness\n",
    "word2vec.most_similar(positive = [\"King\", \"Woman\"], negative = [\"Man\"])"
   ]
  },
  {
   "cell_type": "code",
   "execution_count": 22,
   "metadata": {
    "execution": {
     "iopub.execute_input": "2023-02-26T15:26:05.643905Z",
     "iopub.status.busy": "2023-02-26T15:26:05.643538Z",
     "iopub.status.idle": "2023-02-26T15:26:05.889258Z",
     "shell.execute_reply": "2023-02-26T15:26:05.888467Z",
     "shell.execute_reply.started": "2023-02-26T15:26:05.643874Z"
    }
   },
   "outputs": [],
   "source": [
    "# assign word vectors from word2vec model\n",
    "\n",
    "EMBEDDING_SIZE  = 300  # each word in word2vec model is represented using a 300 dimensional vector\n",
    "VOCABULARY_SIZE = len(word_tokenizer.word_index) + 1\n",
    "\n",
    "# create an empty embedding matix\n",
    "embedding_weights = np.zeros((VOCABULARY_SIZE, EMBEDDING_SIZE))\n",
    "\n",
    "# create a word to index dictionary mapping\n",
    "word2id = word_tokenizer.word_index\n",
    "\n",
    "# copy vectors from word2vec model to the words present in corpus\n",
    "for word, index in word2id.items():\n",
    "    try:\n",
    "        embedding_weights[index, :] = word2vec[word]\n",
    "    except KeyError:\n",
    "        pass"
   ]
  },
  {
   "cell_type": "code",
   "execution_count": 23,
   "metadata": {
    "execution": {
     "iopub.execute_input": "2023-02-26T15:26:05.891108Z",
     "iopub.status.busy": "2023-02-26T15:26:05.890750Z",
     "iopub.status.idle": "2023-02-26T15:26:05.896441Z",
     "shell.execute_reply": "2023-02-26T15:26:05.895356Z",
     "shell.execute_reply.started": "2023-02-26T15:26:05.891069Z"
    }
   },
   "outputs": [
    {
     "name": "stdout",
     "output_type": "stream",
     "text": [
      "Embeddings shape: (59449, 300)\n"
     ]
    }
   ],
   "source": [
    "# check embedding dimension\n",
    "print(\"Embeddings shape: {}\".format(embedding_weights.shape))"
   ]
  },
  {
   "cell_type": "code",
   "execution_count": 24,
   "metadata": {
    "execution": {
     "iopub.execute_input": "2023-02-26T15:26:05.898497Z",
     "iopub.status.busy": "2023-02-26T15:26:05.898091Z",
     "iopub.status.idle": "2023-02-26T15:26:05.917099Z",
     "shell.execute_reply": "2023-02-26T15:26:05.916072Z",
     "shell.execute_reply.started": "2023-02-26T15:26:05.898461Z"
    }
   },
   "outputs": [
    {
     "data": {
      "text/plain": [
       "array([ 0.4453125 , -0.20019531,  0.20019531, -0.03149414,  0.078125  ,\n",
       "       -0.390625  ,  0.13671875, -0.13867188,  0.05395508,  0.10546875,\n",
       "       -0.05029297, -0.23730469,  0.19921875,  0.12597656, -0.12695312,\n",
       "        0.34179688,  0.06347656,  0.26757812, -0.07324219, -0.29101562,\n",
       "        0.10498047,  0.11914062,  0.23730469,  0.00640869,  0.12451172,\n",
       "       -0.00939941, -0.02770996,  0.03076172,  0.07421875, -0.22851562,\n",
       "       -0.08056641, -0.05273438,  0.16894531,  0.19824219, -0.15625   ,\n",
       "       -0.08740234,  0.10742188, -0.07177734,  0.05200195,  0.25976562,\n",
       "        0.171875  , -0.13574219,  0.06738281,  0.00531006,  0.15527344,\n",
       "       -0.03515625,  0.08789062,  0.3359375 , -0.12890625,  0.17578125,\n",
       "       -0.08642578,  0.32421875, -0.09033203,  0.35351562,  0.24316406,\n",
       "       -0.07470703, -0.06640625, -0.17578125,  0.06689453, -0.03833008,\n",
       "        0.0100708 , -0.21484375, -0.03686523,  0.04394531,  0.02209473,\n",
       "        0.00219727, -0.22460938,  0.03015137, -0.21582031,  0.16015625,\n",
       "        0.23339844, -0.16699219, -0.09228516,  0.10644531,  0.19335938,\n",
       "       -0.26757812,  0.15722656, -0.08691406,  0.11181641,  0.14941406,\n",
       "       -0.20507812,  0.04882812, -0.07519531, -0.21582031, -0.10107422,\n",
       "       -0.13378906, -0.06103516,  0.05444336,  0.07470703,  0.09521484,\n",
       "       -0.0144043 ,  0.27929688, -0.25585938, -0.05273438, -0.22460938,\n",
       "        0.10253906, -0.15136719,  0.21289062, -0.04711914, -0.12109375,\n",
       "        0.04663086,  0.25976562,  0.13574219,  0.00799561,  0.02001953,\n",
       "        0.1796875 ,  0.30664062,  0.06152344,  0.13574219, -0.09619141,\n",
       "       -0.07421875,  0.38671875,  0.20800781,  0.12695312,  0.05200195,\n",
       "        0.17675781, -0.16796875, -0.19335938, -0.06152344, -0.07568359,\n",
       "       -0.18457031,  0.06030273, -0.15136719, -0.1953125 , -0.23339844,\n",
       "        0.00738525, -0.02478027, -0.09765625, -0.06054688,  0.20214844,\n",
       "       -0.2734375 ,  0.00595093, -0.34570312, -0.12988281,  0.00418091,\n",
       "        0.09960938,  0.0246582 ,  0.15917969, -0.02038574,  0.30273438,\n",
       "       -0.20800781, -0.20214844, -0.03930664, -0.06494141,  0.00436401,\n",
       "       -0.02270508, -0.171875  ,  0.30273438, -0.16113281, -0.49414062,\n",
       "        0.3515625 ,  0.39257812,  0.09814453,  0.41796875,  0.05371094,\n",
       "        0.02392578, -0.03710938, -0.08251953, -0.38671875, -0.40625   ,\n",
       "       -0.05664062,  0.203125  , -0.01782227,  0.3359375 ,  0.19140625,\n",
       "       -0.44335938,  0.00927734,  0.24804688, -0.05102539,  0.19726562,\n",
       "        0.03881836,  0.03442383, -0.40039062, -0.09912109, -0.07128906,\n",
       "        0.21484375, -0.01422119,  0.04907227, -0.07421875, -0.21582031,\n",
       "       -0.41992188,  0.02172852,  0.11083984, -0.33398438, -0.2734375 ,\n",
       "       -0.05322266, -0.16601562, -0.28515625, -0.12207031,  0.04882812,\n",
       "       -0.0625    , -0.04077148, -0.16503906,  0.0480957 , -0.21191406,\n",
       "        0.20019531, -0.2109375 ,  0.10839844, -0.14648438, -0.07958984,\n",
       "       -0.05151367, -0.16601562, -0.24902344, -0.375     ,  0.05664062,\n",
       "       -0.13671875, -0.2578125 ,  0.28515625, -0.04736328,  0.13574219,\n",
       "       -0.14550781,  0.19433594, -0.21972656,  0.08447266, -0.10791016,\n",
       "       -0.11816406, -0.16015625,  0.12060547, -0.10888672,  0.04345703,\n",
       "        0.11474609, -0.08447266, -0.00720215,  0.03662109, -0.38671875,\n",
       "       -0.03881836, -0.03198242,  0.00344849,  0.22558594, -0.06787109,\n",
       "       -0.16699219,  0.2421875 ,  0.05712891,  0.27539062, -0.0456543 ,\n",
       "       -0.19042969, -0.17285156,  0.00836182, -0.03271484,  0.16992188,\n",
       "       -0.18554688, -0.0703125 , -0.32617188, -0.00668335, -0.02770996,\n",
       "        0.3359375 ,  0.125     , -0.2109375 ,  0.06005859, -0.07080078,\n",
       "        0.11132812,  0.125     ,  0.25390625,  0.29296875, -0.03125   ,\n",
       "        0.09033203, -0.20507812, -0.07861328,  0.02062988, -0.0546875 ,\n",
       "       -0.23339844,  0.00096893, -0.04516602,  0.16894531, -0.22167969,\n",
       "        0.08105469,  0.33398438,  0.09619141,  0.00866699, -0.03271484,\n",
       "        0.05493164,  0.12109375,  0.16210938, -0.10302734,  0.27148438,\n",
       "       -0.03344727, -0.30273438,  0.04223633,  0.08496094, -0.15527344,\n",
       "        0.10107422, -0.11474609, -0.13085938,  0.22949219,  0.12988281,\n",
       "        0.09863281, -0.03588867,  0.10693359, -0.24902344,  0.19238281,\n",
       "       -0.05322266, -0.09033203, -0.31640625, -0.5703125 , -0.15917969,\n",
       "        0.0291748 , -0.0246582 , -0.07714844, -0.04663086, -0.17578125])"
      ]
     },
     "execution_count": 24,
     "metadata": {},
     "output_type": "execute_result"
    }
   ],
   "source": [
    "# let's look at an embedding of a word\n",
    "embedding_weights[word_tokenizer.word_index['joy']]"
   ]
  },
  {
   "cell_type": "markdown",
   "metadata": {},
   "source": [
    "### Use one-hot encoding for output sequences (Y)"
   ]
  },
  {
   "cell_type": "code",
   "execution_count": 25,
   "metadata": {
    "execution": {
     "iopub.execute_input": "2023-02-26T15:26:05.921835Z",
     "iopub.status.busy": "2023-02-26T15:26:05.921580Z",
     "iopub.status.idle": "2023-02-26T15:26:06.232989Z",
     "shell.execute_reply": "2023-02-26T15:26:06.232143Z",
     "shell.execute_reply.started": "2023-02-26T15:26:05.921810Z"
    }
   },
   "outputs": [],
   "source": [
    "# use Keras' to_categorical function to one-hot encode Y\n",
    "Y = to_categorical(Y)"
   ]
  },
  {
   "cell_type": "code",
   "execution_count": 26,
   "metadata": {
    "execution": {
     "iopub.execute_input": "2023-02-26T15:26:06.234685Z",
     "iopub.status.busy": "2023-02-26T15:26:06.234355Z",
     "iopub.status.idle": "2023-02-26T15:26:06.241241Z",
     "shell.execute_reply": "2023-02-26T15:26:06.239195Z",
     "shell.execute_reply.started": "2023-02-26T15:26:06.234647Z"
    }
   },
   "outputs": [
    {
     "name": "stdout",
     "output_type": "stream",
     "text": [
      "(72202, 100, 13)\n"
     ]
    }
   ],
   "source": [
    "# print Y of the first output sequqnce\n",
    "print(Y.shape)"
   ]
  },
  {
   "cell_type": "markdown",
   "metadata": {},
   "source": [
    "## Split data in training, validation and tesing sets"
   ]
  },
  {
   "cell_type": "code",
   "execution_count": 27,
   "metadata": {
    "execution": {
     "iopub.execute_input": "2023-02-26T15:26:06.243423Z",
     "iopub.status.busy": "2023-02-26T15:26:06.242844Z",
     "iopub.status.idle": "2023-02-26T15:26:06.387429Z",
     "shell.execute_reply": "2023-02-26T15:26:06.386575Z",
     "shell.execute_reply.started": "2023-02-26T15:26:06.243384Z"
    }
   },
   "outputs": [],
   "source": [
    "# split entire data into training and testing sets\n",
    "TEST_SIZE = 0.15\n",
    "X_train, X_test, Y_train, Y_test = train_test_split(X, Y, test_size=TEST_SIZE, random_state=4)"
   ]
  },
  {
   "cell_type": "code",
   "execution_count": 28,
   "metadata": {
    "execution": {
     "iopub.execute_input": "2023-02-26T15:26:06.390600Z",
     "iopub.status.busy": "2023-02-26T15:26:06.390024Z",
     "iopub.status.idle": "2023-02-26T15:26:06.506018Z",
     "shell.execute_reply": "2023-02-26T15:26:06.505227Z",
     "shell.execute_reply.started": "2023-02-26T15:26:06.390555Z"
    }
   },
   "outputs": [],
   "source": [
    "# split training data into training and validation sets\n",
    "VALID_SIZE = 0.15\n",
    "X_train, X_validation, Y_train, Y_validation = train_test_split(X_train, Y_train, test_size=VALID_SIZE, random_state=4)"
   ]
  },
  {
   "cell_type": "code",
   "execution_count": 29,
   "metadata": {
    "execution": {
     "iopub.execute_input": "2023-02-26T15:26:06.507977Z",
     "iopub.status.busy": "2023-02-26T15:26:06.507404Z",
     "iopub.status.idle": "2023-02-26T15:26:06.516280Z",
     "shell.execute_reply": "2023-02-26T15:26:06.515276Z",
     "shell.execute_reply.started": "2023-02-26T15:26:06.507937Z"
    }
   },
   "outputs": [
    {
     "name": "stdout",
     "output_type": "stream",
     "text": [
      "TRAINING DATA\n",
      "Shape of input sequences: (52165, 100)\n",
      "Shape of output sequences: (52165, 100, 13)\n",
      "--------------------------------------------------\n",
      "VALIDATION DATA\n",
      "Shape of input sequences: (9206, 100)\n",
      "Shape of output sequences: (9206, 100, 13)\n",
      "--------------------------------------------------\n",
      "TESTING DATA\n",
      "Shape of input sequences: (10831, 100)\n",
      "Shape of output sequences: (10831, 100, 13)\n"
     ]
    }
   ],
   "source": [
    "# print number of samples in each set\n",
    "print(\"TRAINING DATA\")\n",
    "print('Shape of input sequences: {}'.format(X_train.shape))\n",
    "print('Shape of output sequences: {}'.format(Y_train.shape))\n",
    "print(\"-\"*50)\n",
    "print(\"VALIDATION DATA\")\n",
    "print('Shape of input sequences: {}'.format(X_validation.shape))\n",
    "print('Shape of output sequences: {}'.format(Y_validation.shape))\n",
    "print(\"-\"*50)\n",
    "print(\"TESTING DATA\")\n",
    "print('Shape of input sequences: {}'.format(X_test.shape))\n",
    "print('Shape of output sequences: {}'.format(Y_test.shape))"
   ]
  },
  {
   "cell_type": "code",
   "execution_count": null,
   "metadata": {},
   "outputs": [],
   "source": []
  },
  {
   "cell_type": "markdown",
   "metadata": {},
   "source": [
    "# 3. LSTM"
   ]
  },
  {
   "cell_type": "markdown",
   "metadata": {},
   "source": [
    "We'll use pre-trained word embeddings in following models and allow them to be updated as well. "
   ]
  },
  {
   "cell_type": "code",
   "execution_count": 31,
   "metadata": {
    "execution": {
     "iopub.execute_input": "2023-02-26T15:28:47.756642Z",
     "iopub.status.busy": "2023-02-26T15:28:47.756234Z",
     "iopub.status.idle": "2023-02-26T15:28:47.762076Z",
     "shell.execute_reply": "2023-02-26T15:28:47.761224Z",
     "shell.execute_reply.started": "2023-02-26T15:28:47.756601Z"
    }
   },
   "outputs": [],
   "source": [
    "# total number of tags\n",
    "NUM_CLASSES = Y.shape[2]"
   ]
  },
  {
   "cell_type": "markdown",
   "metadata": {},
   "source": [
    "## Create model architecture"
   ]
  },
  {
   "cell_type": "code",
   "execution_count": 32,
   "metadata": {
    "execution": {
     "iopub.execute_input": "2023-02-26T15:28:50.088464Z",
     "iopub.status.busy": "2023-02-26T15:28:50.088102Z",
     "iopub.status.idle": "2023-02-26T15:28:50.597742Z",
     "shell.execute_reply": "2023-02-26T15:28:50.596914Z",
     "shell.execute_reply.started": "2023-02-26T15:28:50.088430Z"
    }
   },
   "outputs": [],
   "source": [
    "# create architecture\n",
    "\n",
    "lstm_model = Sequential()\n",
    "lstm_model.add(Embedding(input_dim     = VOCABULARY_SIZE,         # vocabulary size - number of unique words in data\n",
    "                         output_dim    = EMBEDDING_SIZE,          # length of vector with which each word is represented\n",
    "                         input_length  = MAX_SEQ_LENGTH,          # length of input sequence\n",
    "                         weights       = [embedding_weights],     # word embedding matrix\n",
    "                         trainable     = True                     # True - update embeddings_weight matrix\n",
    "))\n",
    "lstm_model.add(LSTM(64, return_sequences=True))\n",
    "lstm_model.add(TimeDistributed(Dense(NUM_CLASSES, activation='softmax')))"
   ]
  },
  {
   "cell_type": "markdown",
   "metadata": {},
   "source": [
    "## Compile model"
   ]
  },
  {
   "cell_type": "code",
   "execution_count": 33,
   "metadata": {
    "execution": {
     "iopub.execute_input": "2023-02-26T15:29:07.260381Z",
     "iopub.status.busy": "2023-02-26T15:29:07.260005Z",
     "iopub.status.idle": "2023-02-26T15:29:07.278409Z",
     "shell.execute_reply": "2023-02-26T15:29:07.277620Z",
     "shell.execute_reply.started": "2023-02-26T15:29:07.260346Z"
    }
   },
   "outputs": [],
   "source": [
    "lstm_model.compile(loss      =  'categorical_crossentropy',\n",
    "                   optimizer =  'adam',\n",
    "                   metrics   =  ['acc'])"
   ]
  },
  {
   "cell_type": "code",
   "execution_count": 34,
   "metadata": {
    "execution": {
     "iopub.execute_input": "2023-02-26T15:29:09.014596Z",
     "iopub.status.busy": "2023-02-26T15:29:09.014268Z",
     "iopub.status.idle": "2023-02-26T15:29:09.022362Z",
     "shell.execute_reply": "2023-02-26T15:29:09.020932Z",
     "shell.execute_reply.started": "2023-02-26T15:29:09.014566Z"
    }
   },
   "outputs": [
    {
     "name": "stdout",
     "output_type": "stream",
     "text": [
      "Model: \"sequential_1\"\n",
      "_________________________________________________________________\n",
      "Layer (type)                 Output Shape              Param #   \n",
      "=================================================================\n",
      "embedding_1 (Embedding)      (None, 100, 300)          17834700  \n",
      "_________________________________________________________________\n",
      "lstm_1 (LSTM)                (None, 100, 64)           93440     \n",
      "_________________________________________________________________\n",
      "time_distributed (TimeDistri (None, 100, 13)           845       \n",
      "=================================================================\n",
      "Total params: 17,928,985\n",
      "Trainable params: 17,928,985\n",
      "Non-trainable params: 0\n",
      "_________________________________________________________________\n"
     ]
    }
   ],
   "source": [
    "# check summary of the model\n",
    "lstm_model.summary()"
   ]
  },
  {
   "cell_type": "markdown",
   "metadata": {},
   "source": [
    "## Fit model"
   ]
  },
  {
   "cell_type": "code",
   "execution_count": 35,
   "metadata": {
    "execution": {
     "iopub.execute_input": "2023-02-26T15:29:10.812929Z",
     "iopub.status.busy": "2023-02-26T15:29:10.812564Z",
     "iopub.status.idle": "2023-02-26T15:50:20.813318Z",
     "shell.execute_reply": "2023-02-26T15:50:20.812538Z",
     "shell.execute_reply.started": "2023-02-26T15:29:10.812895Z"
    }
   },
   "outputs": [
    {
     "name": "stdout",
     "output_type": "stream",
     "text": [
      "Epoch 1/10\n",
      "408/408 [==============================] - 128s 313ms/step - loss: 0.3000 - acc: 0.9338 - val_loss: 0.0475 - val_acc: 0.9871\n",
      "Epoch 2/10\n",
      "408/408 [==============================] - 126s 309ms/step - loss: 0.0339 - acc: 0.9896 - val_loss: 0.0297 - val_acc: 0.9900\n",
      "Epoch 3/10\n",
      "408/408 [==============================] - 126s 308ms/step - loss: 0.0235 - acc: 0.9919 - val_loss: 0.0262 - val_acc: 0.9908\n",
      "Epoch 4/10\n",
      "408/408 [==============================] - 126s 310ms/step - loss: 0.0198 - acc: 0.9929 - val_loss: 0.0249 - val_acc: 0.9911\n",
      "Epoch 5/10\n",
      "408/408 [==============================] - 126s 309ms/step - loss: 0.0176 - acc: 0.9935 - val_loss: 0.0243 - val_acc: 0.9913\n",
      "Epoch 6/10\n",
      "408/408 [==============================] - 126s 308ms/step - loss: 0.0161 - acc: 0.9941 - val_loss: 0.0240 - val_acc: 0.9914\n",
      "Epoch 7/10\n",
      "408/408 [==============================] - 126s 309ms/step - loss: 0.0147 - acc: 0.9946 - val_loss: 0.0241 - val_acc: 0.9915\n",
      "Epoch 8/10\n",
      "408/408 [==============================] - 125s 307ms/step - loss: 0.0133 - acc: 0.9952 - val_loss: 0.0242 - val_acc: 0.9917\n",
      "Epoch 9/10\n",
      "408/408 [==============================] - 126s 309ms/step - loss: 0.0120 - acc: 0.9957 - val_loss: 0.0246 - val_acc: 0.9916\n",
      "Epoch 10/10\n",
      "408/408 [==============================] - 126s 309ms/step - loss: 0.0108 - acc: 0.9962 - val_loss: 0.0254 - val_acc: 0.9916\n"
     ]
    }
   ],
   "source": [
    "lstm_training = lstm_model.fit(X_train, Y_train, batch_size=128, epochs=10, validation_data=(X_validation, Y_validation))"
   ]
  },
  {
   "cell_type": "code",
   "execution_count": 36,
   "metadata": {
    "execution": {
     "iopub.execute_input": "2023-02-26T15:50:20.817045Z",
     "iopub.status.busy": "2023-02-26T15:50:20.816785Z",
     "iopub.status.idle": "2023-02-26T15:50:20.975753Z",
     "shell.execute_reply": "2023-02-26T15:50:20.975011Z",
     "shell.execute_reply.started": "2023-02-26T15:50:20.817018Z"
    }
   },
   "outputs": [
    {
     "data": {
      "image/png": "[encoded data removed]",
      "text/plain": [
       "<Figure size 432x288 with 1 Axes>"
      ]
     },
     "metadata": {
      "needs_background": "light"
     },
     "output_type": "display_data"
    }
   ],
   "source": [
    "# visualise training history\n",
    "plt.plot(lstm_training.history['acc'])\n",
    "plt.plot(lstm_training.history['val_acc'])\n",
    "plt.title('model accuracy')\n",
    "plt.ylabel('accuracy')\n",
    "plt.xlabel('epoch')\n",
    "plt.legend(['train', 'test'], loc=\"lower right\")\n",
    "plt.show()"
   ]
  },
  {
   "cell_type": "code",
   "execution_count": null,
   "metadata": {},
   "outputs": [],
   "source": []
  },
  {
   "cell_type": "markdown",
   "metadata": {},
   "source": [
    "# 5. Model evaluation"
   ]
  },
  {
   "cell_type": "code",
   "execution_count": 37,
   "metadata": {
    "execution": {
     "iopub.execute_input": "2023-02-26T15:50:20.977536Z",
     "iopub.status.busy": "2023-02-26T15:50:20.977080Z",
     "iopub.status.idle": "2023-02-26T15:50:20.984025Z",
     "shell.execute_reply": "2023-02-26T15:50:20.983363Z",
     "shell.execute_reply.started": "2023-02-26T15:50:20.977482Z"
    }
   },
   "outputs": [],
   "source": [
    "# loss, accuracy = rnn_model.evaluate(X_test, Y_test, verbose = 1)\n",
    "# print(\"Loss: {0},\\nAccuracy: {1}\".format(loss, accuracy))"
   ]
  },
  {
   "cell_type": "code",
   "execution_count": 38,
   "metadata": {
    "execution": {
     "iopub.execute_input": "2023-02-26T15:50:20.987548Z",
     "iopub.status.busy": "2023-02-26T15:50:20.986937Z",
     "iopub.status.idle": "2023-02-26T15:50:22.418129Z",
     "shell.execute_reply": "2023-02-26T15:50:22.417191Z",
     "shell.execute_reply.started": "2023-02-26T15:50:20.987508Z"
    }
   },
   "outputs": [
    {
     "name": "stdout",
     "output_type": "stream",
     "text": [
      "339/339 [==============================] - 1s 4ms/step - loss: 0.0253 - acc: 0.9916\n",
      "Loss: 0.025297433137893677,\n",
      "Accuracy: 0.9916462302207947\n"
     ]
    }
   ],
   "source": [
    "loss, accuracy = lstm_model.evaluate(X_test, Y_test, verbose = 1)\n",
    "print(\"Loss: {0},\\nAccuracy: {1}\".format(loss, accuracy))"
   ]
  },
  {
   "cell_type": "code",
   "execution_count": 46,
   "metadata": {
    "execution": {
     "iopub.execute_input": "2023-02-26T17:08:20.397231Z",
     "iopub.status.busy": "2023-02-26T17:08:20.396879Z",
     "iopub.status.idle": "2023-02-26T17:08:20.401896Z",
     "shell.execute_reply": "2023-02-26T17:08:20.400894Z",
     "shell.execute_reply.started": "2023-02-26T17:08:20.397192Z"
    }
   },
   "outputs": [],
   "source": [
    "from sklearn.metrics import confusion_matrix, accuracy_score, log_loss, f1_score\n"
   ]
  },
  {
   "cell_type": "code",
   "execution_count": 60,
   "metadata": {
    "execution": {
     "iopub.execute_input": "2023-02-26T17:55:44.375278Z",
     "iopub.status.busy": "2023-02-26T17:55:44.374942Z",
     "iopub.status.idle": "2023-02-26T17:55:45.123131Z",
     "shell.execute_reply": "2023-02-26T17:55:45.122310Z",
     "shell.execute_reply.started": "2023-02-26T17:55:44.375245Z"
    }
   },
   "outputs": [],
   "source": [
    "predict=lstm_model.predict(X_test,batch_size=128,)\n",
    "\n",
    "predict=np.argmax(predict, axis=1)\n",
    "predict=to_categorical(predict)"
   ]
  },
  {
   "cell_type": "code",
   "execution_count": 40,
   "metadata": {
    "execution": {
     "iopub.execute_input": "2023-02-26T15:50:22.427672Z",
     "iopub.status.busy": "2023-02-26T15:50:22.427176Z",
     "iopub.status.idle": "2023-02-26T15:50:22.435948Z",
     "shell.execute_reply": "2023-02-26T15:50:22.435303Z",
     "shell.execute_reply.started": "2023-02-26T15:50:22.427635Z"
    }
   },
   "outputs": [],
   "source": [
    "for_test=np.array(list((set(X_test[41]))))"
   ]
  },
  {
   "cell_type": "code",
   "execution_count": 41,
   "metadata": {
    "execution": {
     "iopub.execute_input": "2023-02-26T15:50:22.437603Z",
     "iopub.status.busy": "2023-02-26T15:50:22.437014Z",
     "iopub.status.idle": "2023-02-26T15:50:22.445257Z",
     "shell.execute_reply": "2023-02-26T15:50:22.444560Z",
     "shell.execute_reply.started": "2023-02-26T15:50:22.437528Z"
    }
   },
   "outputs": [],
   "source": [
    "tag={'Nan':0,'noun':1,'verb':2,'.':3, 'adp':4,'det':5,'adj':6,'adv':7, 'pron':8, 'conj':9,'prt':10, 'num':11, 'x':12}"
   ]
  },
  {
   "cell_type": "code",
   "execution_count": 42,
   "metadata": {
    "execution": {
     "iopub.execute_input": "2023-02-26T15:50:22.446830Z",
     "iopub.status.busy": "2023-02-26T15:50:22.446293Z",
     "iopub.status.idle": "2023-02-26T15:50:22.456196Z",
     "shell.execute_reply": "2023-02-26T15:50:22.455274Z",
     "shell.execute_reply.started": "2023-02-26T15:50:22.446794Z"
    }
   },
   "outputs": [],
   "source": [
    "word2id['Nan']=0"
   ]
  },
  {
   "cell_type": "code",
   "execution_count": 43,
   "metadata": {
    "execution": {
     "iopub.execute_input": "2023-02-26T15:50:22.457815Z",
     "iopub.status.busy": "2023-02-26T15:50:22.457363Z",
     "iopub.status.idle": "2023-02-26T15:50:23.051925Z",
     "shell.execute_reply": "2023-02-26T15:50:23.051174Z",
     "shell.execute_reply.started": "2023-02-26T15:50:22.457678Z"
    }
   },
   "outputs": [
    {
     "name": "stdout",
     "output_type": "stream",
     "text": [
      "word : Nan ----- tag----> Nan\n",
      "word : , ----- tag----> .\n",
      "word : . ----- tag----> .\n",
      "word : gordon ----- tag----> noun\n",
      "word : a ----- tag----> det\n",
      "word : to ----- tag----> prt\n",
      "word : mystery ----- tag----> noun\n",
      "word : he ----- tag----> pron\n",
      "word : be ----- tag----> verb\n",
      "word : although ----- tag----> adp\n",
      "word : presumed ----- tag----> verb\n",
      "word : russian ----- tag----> adj\n",
      "word : lonsdale ----- tag----> noun\n",
      "word : a. ----- tag----> noun\n",
      "word : 37 ----- tag----> num\n",
      "word : canadian ----- tag----> adj\n",
      "word : passport ----- tag----> noun\n",
      "word : man ----- tag----> noun\n",
      "word : carries ----- tag----> verb\n"
     ]
    }
   ],
   "source": [
    "p = lstm_model.predict(for_test) # Predict on it\n",
    "p = np.argmax(p, axis=-1) # Map softmax back to a POS index\n",
    "for w, pred in zip(for_test, p): # for every word in the sentence\n",
    "    print( 'word :',list(word2id.keys())\n",
    "      [list(word2id.values()).index(w)],'----- tag---->',list(tag.keys())[list(tag.values()).index(pred[0])])"
   ]
  },
  {
   "cell_type": "code",
   "execution_count": 44,
   "metadata": {
    "execution": {
     "iopub.execute_input": "2023-02-26T15:50:23.056011Z",
     "iopub.status.busy": "2023-02-26T15:50:23.055759Z",
     "iopub.status.idle": "2023-02-26T15:50:24.101543Z",
     "shell.execute_reply": "2023-02-26T15:50:24.100285Z",
     "shell.execute_reply.started": "2023-02-26T15:50:23.055984Z"
    }
   },
   "outputs": [
    {
     "name": "stdout",
     "output_type": "stream",
     "text": [
      "[INFO] saving LSTM  model...\n"
     ]
    }
   ],
   "source": [
    "print(\"[INFO] saving LSTM  model...\")\n",
    "lstm_model.save(\"lstm_model.model\", save_format=\"h5\")"
   ]
  },
  {
   "cell_type": "code",
   "execution_count": 45,
   "metadata": {
    "execution": {
     "iopub.execute_input": "2023-02-26T15:50:24.123335Z",
     "iopub.status.busy": "2023-02-26T15:50:24.114103Z",
     "iopub.status.idle": "2023-02-26T15:50:24.714064Z",
     "shell.execute_reply": "2023-02-26T15:50:24.713116Z",
     "shell.execute_reply.started": "2023-02-26T15:50:24.123267Z"
    }
   },
   "outputs": [],
   "source": [
    "import networkx as nx\n",
    "G = nx.Graph()\n",
    "import matplotlib.pyplot as plt\n"
   ]
  },
  {
   "cell_type": "code",
   "execution_count": null,
   "metadata": {},
   "outputs": [],
   "source": []
  }
 ],
 "metadata": {
  "kernelspec": {
   "display_name": "Python 3 (ipykernel)",
   "language": "python",
   "name": "python3"
  },
  "language_info": {
   "codemirror_mode": {
    "name": "ipython",
    "version": 3
   },
   "file_extension": ".py",
   "mimetype": "text/x-python",
   "name": "python",
   "nbconvert_exporter": "python",
   "pygments_lexer": "ipython3",
   "version": "3.9.7"
  }
 },
 "nbformat": 4,
 "nbformat_minor": 4
}
